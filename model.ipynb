{
 "cells": [
  {
   "cell_type": "code",
   "execution_count": null,
   "id": "83eb50a2",
   "metadata": {},
   "outputs": [],
   "source": [
    "from PIL import Image\n",
    "from pytesseract import pytesseract\n",
    "import cv2\n",
    "import numpy as np\n",
    "from collections import Counter\n",
    "import matplotlib.pyplot as plt\n",
    "%matplotlib inline"
   ]
  },
  {
   "cell_type": "code",
   "execution_count": null,
   "id": "1f7c9a4b",
   "metadata": {},
   "outputs": [],
   "source": [
    "input_img = input(\"image path: \")\n",
    "img1 = np.array(Image.open(input_img))\n",
    "cropped_im1 = img1[10:-10, 10:-10]\n",
    "crop_img_copy = cropped_im1.copy()\n",
    "\n",
    "#convert RGB to greyscale\n",
    "gray1 = cv2.cvtColor(cropped_im1, cv2.COLOR_BGR2GRAY)\n",
    "\n",
    "#Applying OTSU threshold to convert greyscale to Black and white\n",
    "_, im12 = cv2.threshold(gray1, 128, 255, cv2.THRESH_OTSU | cv2.THRESH_BINARY_INV)"
   ]
  },
  {
   "cell_type": "code",
   "execution_count": null,
   "id": "b852eeee",
   "metadata": {},
   "outputs": [],
   "source": [
    "#checking the dominant color of the border to decide weather to inverse the binary or to keep it same\n",
    "def check_dominant_border_color(img):\n",
    "    row_1 = img[0, :]\n",
    "    col_1 = img[:, 0]\n",
    "    row_2 = img[-1, :]\n",
    "    col_2 = img[:, -1]\n",
    "\n",
    "    combined_li = row_1.tolist() + row_2.tolist() + col_1.tolist() + col_2.tolist()\n",
    "    \n",
    "    color_counter = Counter(combined_li)\n",
    "    colors_keys = list(color_counter.keys())\n",
    "    colors_values = list(color_counter.values())\n",
    "    dominant_color = max(colors_keys, key=lambda x:colors_values)\n",
    "\n",
    "    return dominant_color\n",
    "\n",
    "dominant_color = check_dominant_border_color(im12)\n",
    "if dominant_color!=0:\n",
    "    im12 = 255-im12"
   ]
  },
  {
   "cell_type": "code",
   "execution_count": null,
   "id": "28fd691e",
   "metadata": {},
   "outputs": [],
   "source": [
    "#Get rectangular structures\n",
    "rect_kernel = cv2.getStructuringElement(cv2.MORPH_RECT, (9,9))\n",
    "dilation1 = cv2.dilate(im12, rect_kernel, iterations = 1)"
   ]
  },
  {
   "cell_type": "code",
   "execution_count": null,
   "id": "91299c8f",
   "metadata": {},
   "outputs": [],
   "source": [
    "contours1, hierarchy1 = cv2.findContours(dilation1, cv2.RETR_EXTERNAL, cv2.CHAIN_APPROX_NONE)"
   ]
  },
  {
   "cell_type": "markdown",
   "id": "1e3923b9",
   "metadata": {},
   "source": [
    "### call of action button and Logo Detection"
   ]
  },
  {
   "cell_type": "code",
   "execution_count": null,
   "id": "54c0aef6",
   "metadata": {},
   "outputs": [],
   "source": [
    "call_of_action = ['subscribe','seehow','watchnow','introduceus','registernow','next','buynow','startsharing','joinnow','getstarted','signup','signuphere',\n",
    "                 'claimyourfreetrial','signmeup','shopnow','trynow']\n",
    "brands = ['dell','adobe','parallels','paypal','adidas','jpmorgan','samsung','curiosity','curiositystream']"
   ]
  },
  {
   "cell_type": "code",
   "execution_count": null,
   "id": "42354502",
   "metadata": {},
   "outputs": [],
   "source": [
    "def text_extraction(org_img,thresh_img,contours,call_of_action,brands):    \n",
    "    all_text = []\n",
    "    for cnt in contours:\n",
    "        x, y, w, h = cv2.boundingRect(cnt)\n",
    "        cv2.rectangle(org_img, (x,y), (x+w,y+h), (255, 0, 0), 2)\n",
    "        cropped = thresh_img[y:y + h, x:x + w]\n",
    "        cropped = 255-cropped\n",
    "        \n",
    "        text = pytesseract.image_to_string(cropped, config='--oem 1 --psm 6')\n",
    "        text_n = text.replace(\"\\x0c\",\"\").replace(\"\\n\",\"\").replace(\" \",\"\").lower()\n",
    "        if len(text_n)<5:\n",
    "            if len(cropped[0])>10 and len(cropped)>10:\n",
    "                length = len(cropped)*12//100\n",
    "                width = len(cropped[0])*12//100\n",
    "                cropped = cropped[length:-length,width:-width]\n",
    "                cropped = 255-cropped\n",
    "                text = pytesseract.image_to_string(cropped, config='--oem 1 --psm 6')\n",
    "                text_n = text.replace(\"\\x0c\",\"\").replace(\"\\n\",\"\").replace(\" \",\"\").lower()\n",
    "            else:\n",
    "                continue\n",
    "        \n",
    "        all_text.append(text)\n",
    "        \n",
    "        for button in call_of_action:\n",
    "            if text_n==button:\n",
    "                all_text.pop()\n",
    "                print(\"********************************************\")\n",
    "                print(\"Call to action button: \", text)\n",
    "                print(\"********************************************\\n\\n\")\n",
    "                crop_org = org_img[y:y + h, x:x + w]\n",
    "                plt.figure()\n",
    "                plt.title(\"Call_of_action_button\")\n",
    "                plt.imshow(crop_org)\n",
    "                break\n",
    "        for brand in brands:\n",
    "            if text_n == brand:\n",
    "                all_text.pop()\n",
    "                print(\"********************************************\")\n",
    "                print(\"Logo: \", text)\n",
    "                print(\"********************************************\\n\\n\")\n",
    "                crop_org = org_img[y:y + h, x:x + w]\n",
    "                plt.figure()\n",
    "                plt.title(\"Logo\")\n",
    "                plt.imshow(crop_org)\n",
    "                break\n",
    "    print(\"********************************************\")\n",
    "    print(\"Other Text: \", \"\\n\".join(all_text))\n",
    "    print(\"********************************************\")"
   ]
  },
  {
   "cell_type": "code",
   "execution_count": null,
   "id": "8100045f",
   "metadata": {},
   "outputs": [],
   "source": [
    "text_extraction(cropped_im1,im12,contours1, call_of_action,brands)"
   ]
  },
  {
   "cell_type": "code",
   "execution_count": null,
   "id": "21202576",
   "metadata": {},
   "outputs": [],
   "source": [
    "plt.imshow(cropped_im1)"
   ]
  },
  {
   "cell_type": "code",
   "execution_count": null,
   "id": "5a9e88c4",
   "metadata": {},
   "outputs": [],
   "source": [
    "plt.imshow(crop_img_copy)"
   ]
  },
  {
   "cell_type": "code",
   "execution_count": null,
   "id": "0df0a916",
   "metadata": {},
   "outputs": [],
   "source": []
  }
 ],
 "metadata": {
  "kernelspec": {
   "display_name": "Python 3 (ipykernel)",
   "language": "python",
   "name": "python3"
  },
  "language_info": {
   "codemirror_mode": {
    "name": "ipython",
    "version": 3
   },
   "file_extension": ".py",
   "mimetype": "text/x-python",
   "name": "python",
   "nbconvert_exporter": "python",
   "pygments_lexer": "ipython3",
   "version": "3.8.10"
  }
 },
 "nbformat": 4,
 "nbformat_minor": 5
}
