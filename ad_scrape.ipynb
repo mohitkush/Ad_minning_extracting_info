{
 "cells": [
  {
   "cell_type": "code",
   "execution_count": 1,
   "id": "30fa4fe2",
   "metadata": {},
   "outputs": [],
   "source": [
    "import warnings\n",
    "warnings.filterwarnings('ignore')"
   ]
  },
  {
   "cell_type": "markdown",
   "id": "a3c31ea0",
   "metadata": {},
   "source": [
    "### For speedtest website"
   ]
  },
  {
   "cell_type": "code",
   "execution_count": 2,
   "id": "7622e4f0",
   "metadata": {},
   "outputs": [
    {
     "name": "stderr",
     "output_type": "stream",
     "text": [
      "[WDM] - \n",
      "\n",
      "[WDM] - ====== WebDriver manager ======\n",
      "[WDM] - Current firefox version is 93.0\n",
      "[WDM] - Get LATEST driver version for 93.0\n",
      "[WDM] - Driver [/home/mohit/.wdm/drivers/geckodriver/linux64/v0.30.0/geckodriver] found in cache\n"
     ]
    }
   ],
   "source": [
    "import requests\n",
    "from bs4 import BeautifulSoup \n",
    "from selenium import webdriver\n",
    "from webdriver_manager.firefox import GeckoDriverManager\n",
    "import time\n",
    "#from selenium.webdriver.firefox.options import Options\n",
    "#options = Options()\n",
    "#options.headless = True\n",
    "\n",
    "driver = webdriver.Firefox(executable_path=GeckoDriverManager().install())\n",
    "url = \"https://www.speedtest.net/\"\n",
    "driver.get(url)\n",
    "time.sleep(15)\n",
    "seq = driver.find_elements_by_xpath(\"//iframe[@title='3rd party ad content']\")\n",
    "i = 1\n",
    "for i in range(len(seq)):\n",
    "    driver.switch_to.default_content()\n",
    "    iframe = driver.find_elements_by_xpath(\"//iframe[@title='3rd party ad content']\")[i]\n",
    "    driver.switch_to.frame(iframe)\n",
    "    driver.implicitly_wait(5)\n",
    "    soup = BeautifulSoup(driver.page_source, 'lxml')\n",
    "    ad_img = soup.find_all('img')[1]['src'] #ad image\n",
    "\n",
    "    with open(\"./Scraped_ads/\"+url[12:18]+str(i)+'.jgp','wb') as f:\n",
    "        try:\n",
    "            im = requests.get(ad_img)\n",
    "            f.write(im.content)\n",
    "        except MissingSchema:\n",
    "            continue\n",
    "driver.switch_to.default_content()\n",
    "driver.quit()"
   ]
  },
  {
   "cell_type": "code",
   "execution_count": null,
   "id": "93beff28",
   "metadata": {},
   "outputs": [],
   "source": []
  },
  {
   "cell_type": "markdown",
   "id": "72040d80",
   "metadata": {},
   "source": [
    "### For Forbes Webpage"
   ]
  },
  {
   "cell_type": "code",
   "execution_count": 3,
   "id": "db25e4e4",
   "metadata": {},
   "outputs": [
    {
     "name": "stderr",
     "output_type": "stream",
     "text": [
      "[WDM] - \n",
      "\n",
      "[WDM] - ====== WebDriver manager ======\n",
      "[WDM] - Current firefox version is 93.0\n",
      "[WDM] - Get LATEST driver version for 93.0\n",
      "[WDM] - Driver [/home/mohit/.wdm/drivers/geckodriver/linux64/v0.30.0/geckodriver] found in cache\n"
     ]
    }
   ],
   "source": [
    "driver = webdriver.Firefox(executable_path=GeckoDriverManager().install())\n",
    "url = \"https://www.forbes.com\"\n",
    "driver.get(url)\n",
    "\n",
    "time.sleep(15)\n",
    "seq = driver.find_elements_by_xpath(\"//iframe[@title='Ad content']\")\n",
    "\n",
    "for i in range(len(seq)):\n",
    "    driver.switch_to.default_content()\n",
    "    iframe = driver.find_elements_by_xpath(\"//iframe[@title='Ad content']\")[i]\n",
    "    driver.switch_to.frame(iframe)\n",
    "    driver.implicitly_wait(5)\n",
    "    soup = BeautifulSoup(driver.page_source, 'lxml')\n",
    "    ad_img = soup.find_all('img') #ad image\n",
    "    for img in ad_img:\n",
    "        if len(img['src'])>5:\n",
    "            with open(\"./Scraped_ads/\"+url[12:18]+str(i)+'.jgp','wb') as f:\n",
    "                im = requests.get(img['src'])\n",
    "                f.write(im.content)\n",
    "                \n",
    "driver.switch_to.default_content()\n",
    "driver.quit()"
   ]
  }
 ],
 "metadata": {
  "kernelspec": {
   "display_name": "Python 3 (ipykernel)",
   "language": "python",
   "name": "python3"
  },
  "language_info": {
   "codemirror_mode": {
    "name": "ipython",
    "version": 3
   },
   "file_extension": ".py",
   "mimetype": "text/x-python",
   "name": "python",
   "nbconvert_exporter": "python",
   "pygments_lexer": "ipython3",
   "version": "3.8.10"
  }
 },
 "nbformat": 4,
 "nbformat_minor": 5
}
